{
  "nbformat": 4,
  "nbformat_minor": 0,
  "metadata": {
    "colab": {
      "provenance": []
    },
    "kernelspec": {
      "name": "python3",
      "display_name": "Python 3"
    },
    "language_info": {
      "name": "python"
    }
  },
  "cells": [
    {
      "cell_type": "markdown",
      "source": [
        "**Step 0** - Import necessary libraries"
      ],
      "metadata": {
        "id": "zxuwbQgf72iU"
      }
    },
    {
      "cell_type": "code",
      "source": [
        "import pandas as pd\n",
        "import openpyxl\n",
        "!pip install xlsxwriter\n",
        "import xlsxwriter\n",
        "from openpyxl import load_workbook\n",
        "from openpyxl.styles import Font\n",
        "from sklearn.datasets import load_iris"
      ],
      "metadata": {
        "colab": {
          "base_uri": "https://localhost:8080/"
        },
        "id": "3aLeKSErdH6c",
        "outputId": "5a5354e1-6b49-49e4-f7d7-35f04ca8cf1b"
      },
      "execution_count": 1,
      "outputs": [
        {
          "output_type": "stream",
          "name": "stdout",
          "text": [
            "Collecting xlsxwriter\n",
            "  Downloading XlsxWriter-3.2.0-py3-none-any.whl.metadata (2.6 kB)\n",
            "Downloading XlsxWriter-3.2.0-py3-none-any.whl (159 kB)\n",
            "\u001b[2K   \u001b[90m━━━━━━━━━━━━━━━━━━━━━━━━━━━━━━━━━━━━━━━━\u001b[0m \u001b[32m159.9/159.9 kB\u001b[0m \u001b[31m2.5 MB/s\u001b[0m eta \u001b[36m0:00:00\u001b[0m\n",
            "\u001b[?25hInstalling collected packages: xlsxwriter\n",
            "Successfully installed xlsxwriter-3.2.0\n"
          ]
        }
      ]
    },
    {
      "cell_type": "markdown",
      "source": [
        "**Step 1** - Load and display our data before beginning. We're using Fisher's iris dataset."
      ],
      "metadata": {
        "id": "nA1UygOW8kbj"
      }
    },
    {
      "cell_type": "code",
      "source": [
        "iris_data = load_iris()\n",
        "\n",
        "# convert a dataframe\n",
        "df = pd.DataFrame(data=iris_data['data'], columns=iris_data['feature_names'])\n",
        "print(df.head())\n"
      ],
      "metadata": {
        "colab": {
          "base_uri": "https://localhost:8080/"
        },
        "id": "09yqu3iI9EeA",
        "outputId": "5e61a251-bfda-4b73-9cb5-126f21756450"
      },
      "execution_count": 2,
      "outputs": [
        {
          "output_type": "stream",
          "name": "stdout",
          "text": [
            "   sepal length (cm)  sepal width (cm)  petal length (cm)  petal width (cm)\n",
            "0                5.1               3.5                1.4               0.2\n",
            "1                4.9               3.0                1.4               0.2\n",
            "2                4.7               3.2                1.3               0.2\n",
            "3                4.6               3.1                1.5               0.2\n",
            "4                5.0               3.6                1.4               0.2\n"
          ]
        }
      ]
    },
    {
      "cell_type": "markdown",
      "source": [
        "**Step 2** - Let's create an excel that show's that dataframe"
      ],
      "metadata": {
        "id": "HCKdRNkZ9E7y"
      }
    },
    {
      "cell_type": "code",
      "source": [
        "df.to_excel('iris_pandas.xlsx', index=False)"
      ],
      "metadata": {
        "id": "OMPv3XDV9l5I"
      },
      "execution_count": 3,
      "outputs": []
    },
    {
      "cell_type": "markdown",
      "source": [
        "**Step 3** - Let's look at how we can do that using the xlsxwriter library and some additional formatting"
      ],
      "metadata": {
        "id": "Tgl7re7q9mkS"
      }
    },
    {
      "cell_type": "code",
      "source": [
        "#adding a species column\n",
        "df['species'] = pd.Categorical.from_codes(iris_data['target'],iris_data['target_names'])\n",
        "\n",
        "#create a new workbook\n",
        "with pd.ExcelWriter('iris_xlsxwriter.xlsx', engine='xlsxwriter') as writer:\n",
        "  #writing Dataframe ti excel file\n",
        "  df.to_excel(writer, sheet_name='iris_data', index=False)\n",
        "\n",
        "  #now we want to access the workbook and workshett objects\n",
        "  workbook = writer.book\n",
        "  worksheet = writer.sheets['iris_data']\n",
        "\n",
        "  #define range we're going to do conditional formatting\n",
        "  data_range_sepal_length = f'A2:A{len(df) + 1}'\n",
        "  data_range_petal_length = f'C2:C{len(df) + 1}'\n",
        "\n",
        "  #let's create format objects that we'll use in the conditional formatting\n",
        "  green_format = workbook.add_format({'bg_color': '#C6EFCE'})\n",
        "  red_format = workbook.add_format({'bg_color': '#FFC7CE'})\n",
        "\n",
        "  #let's apply the conditonal formating to A column data greater than 5\n",
        "  worksheet.conditional_format(data_range_sepal_length, {\n",
        "      'type': 'cell',\n",
        "      'criteria': '>',\n",
        "      'value': 5.0,\n",
        "      'format': green_format\n",
        "  })\n",
        "\n",
        "  #let's apply the conditonal formating to c column data greater than 3.5\n",
        "  worksheet.conditional_format(data_range_petal_length, {\n",
        "      'type': 'cell',\n",
        "      'criteria': '>',\n",
        "      'value': 3.5,\n",
        "      'format': red_format\n",
        "  })"
      ],
      "metadata": {
        "id": "R3DwgPjN-1ht"
      },
      "execution_count": 4,
      "outputs": []
    },
    {
      "cell_type": "markdown",
      "source": [
        "**Step 4** - Let's modify the file we created with pandas or xlsxwriter library with openpyxl"
      ],
      "metadata": {
        "id": "DCJCTm6R-2P2"
      }
    },
    {
      "cell_type": "code",
      "source": [
        "# load the workbook using openpyxl\n",
        "wb = load_workbook('iris_xlsxwriter.xlsx')\n",
        "ws = wb['iris_data']\n",
        "\n",
        "#apply a new format to the existing workbook - making header row blue font\n",
        "blue_font = Font(color=\"0000FF\")\n",
        "for cell in ws[1]: #the first row\n",
        "    cell.font = blue_font\n",
        "\n",
        "#save xlsx file\n",
        "wb.save('iris_xlsxwriter.xlsx')\n"
      ],
      "metadata": {
        "id": "6n4RmLTX_EOS"
      },
      "execution_count": 5,
      "outputs": []
    }
  ]
}